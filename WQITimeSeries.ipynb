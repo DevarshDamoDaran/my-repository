{
  "cells": [
    {
      "cell_type": "markdown",
      "metadata": {
        "id": "view-in-github",
        "colab_type": "text"
      },
      "source": [
        "<a href=\"https://colab.research.google.com/github/DevarshDamoDaran/my-repository/blob/master/WQITimeSeries.ipynb\" target=\"_parent\"><img src=\"https://colab.research.google.com/assets/colab-badge.svg\" alt=\"Open In Colab\"/></a>"
      ]
    },
    {
      "cell_type": "markdown",
      "metadata": {
        "id": "eRy3TeDX2d5k"
      },
      "source": [
        "### Develop LSTM Models For Univariate Time Series Forecasting"
      ]
    },
    {
      "cell_type": "code",
      "execution_count": null,
      "metadata": {
        "id": "rDaI6jB62d5o"
      },
      "outputs": [],
      "source": [
        "\n",
        "# univariate lstm example\n",
        "import numpy as np\n",
        "import pandas as pd\n",
        "from tensorflow.keras.models import Sequential\n",
        "from tensorflow.keras.layers import LSTM\n",
        "from tensorflow.keras.layers import Dense\n",
        "from tensorflow.keras.layers import Flatten\n"
      ]
    },
    {
      "cell_type": "code",
      "execution_count": null,
      "metadata": {
        "id": "gnveS5Pr2d5q"
      },
      "outputs": [],
      "source": [
        "# preparing independent and dependent features\n",
        "def prepare_data(timeseries_data, n_features):\n",
        "\tX, y =[],[]\n",
        "\tfor i in range(len(timeseries_data)):\n",
        "\t\t# find the end of this pattern\n",
        "\t\tend_ix = i + n_features\n",
        "\t\t# check if we are beyond the sequence\n",
        "\t\tif end_ix > len(timeseries_data)-1:\n",
        "\t\t\tbreak\n",
        "\t\t# gather input and output parts of the pattern\n",
        "\t\tseq_x, seq_y = timeseries_data[i:end_ix], timeseries_data[end_ix]\n",
        "\t\tX.append(seq_x)\n",
        "\t\ty.append(seq_y)\n",
        "\treturn np.array(X), np.array(y)"
      ]
    },
    {
      "cell_type": "code",
      "source": [
        "from google.colab import files\n",
        "\n",
        "uploaded = files.upload()\n",
        "\n",
        "for fn in uploaded.keys():\n",
        "  print('User uploaded file \"{name}\" with length {length} bytes'.format(\n",
        "      name=fn, length=len(uploaded[fn])))"
      ],
      "metadata": {
        "colab": {
          "base_uri": "https://localhost:8080/",
          "height": 90
        },
        "id": "eUq4o9qdEjBz",
        "outputId": "c8286fbf-eee5-4fc8-e79f-ed7d3be75e07"
      },
      "execution_count": null,
      "outputs": [
        {
          "output_type": "display_data",
          "data": {
            "text/plain": [
              "<IPython.core.display.HTML object>"
            ],
            "text/html": [
              "\n",
              "     <input type=\"file\" id=\"files-2a37dfc6-9c51-4b2e-91d8-96c911bbed83\" name=\"files[]\" multiple disabled\n",
              "        style=\"border:none\" />\n",
              "     <output id=\"result-2a37dfc6-9c51-4b2e-91d8-96c911bbed83\">\n",
              "      Upload widget is only available when the cell has been executed in the\n",
              "      current browser session. Please rerun this cell to enable.\n",
              "      </output>\n",
              "      <script>// Copyright 2017 Google LLC\n",
              "//\n",
              "// Licensed under the Apache License, Version 2.0 (the \"License\");\n",
              "// you may not use this file except in compliance with the License.\n",
              "// You may obtain a copy of the License at\n",
              "//\n",
              "//      http://www.apache.org/licenses/LICENSE-2.0\n",
              "//\n",
              "// Unless required by applicable law or agreed to in writing, software\n",
              "// distributed under the License is distributed on an \"AS IS\" BASIS,\n",
              "// WITHOUT WARRANTIES OR CONDITIONS OF ANY KIND, either express or implied.\n",
              "// See the License for the specific language governing permissions and\n",
              "// limitations under the License.\n",
              "\n",
              "/**\n",
              " * @fileoverview Helpers for google.colab Python module.\n",
              " */\n",
              "(function(scope) {\n",
              "function span(text, styleAttributes = {}) {\n",
              "  const element = document.createElement('span');\n",
              "  element.textContent = text;\n",
              "  for (const key of Object.keys(styleAttributes)) {\n",
              "    element.style[key] = styleAttributes[key];\n",
              "  }\n",
              "  return element;\n",
              "}\n",
              "\n",
              "// Max number of bytes which will be uploaded at a time.\n",
              "const MAX_PAYLOAD_SIZE = 100 * 1024;\n",
              "\n",
              "function _uploadFiles(inputId, outputId) {\n",
              "  const steps = uploadFilesStep(inputId, outputId);\n",
              "  const outputElement = document.getElementById(outputId);\n",
              "  // Cache steps on the outputElement to make it available for the next call\n",
              "  // to uploadFilesContinue from Python.\n",
              "  outputElement.steps = steps;\n",
              "\n",
              "  return _uploadFilesContinue(outputId);\n",
              "}\n",
              "\n",
              "// This is roughly an async generator (not supported in the browser yet),\n",
              "// where there are multiple asynchronous steps and the Python side is going\n",
              "// to poll for completion of each step.\n",
              "// This uses a Promise to block the python side on completion of each step,\n",
              "// then passes the result of the previous step as the input to the next step.\n",
              "function _uploadFilesContinue(outputId) {\n",
              "  const outputElement = document.getElementById(outputId);\n",
              "  const steps = outputElement.steps;\n",
              "\n",
              "  const next = steps.next(outputElement.lastPromiseValue);\n",
              "  return Promise.resolve(next.value.promise).then((value) => {\n",
              "    // Cache the last promise value to make it available to the next\n",
              "    // step of the generator.\n",
              "    outputElement.lastPromiseValue = value;\n",
              "    return next.value.response;\n",
              "  });\n",
              "}\n",
              "\n",
              "/**\n",
              " * Generator function which is called between each async step of the upload\n",
              " * process.\n",
              " * @param {string} inputId Element ID of the input file picker element.\n",
              " * @param {string} outputId Element ID of the output display.\n",
              " * @return {!Iterable<!Object>} Iterable of next steps.\n",
              " */\n",
              "function* uploadFilesStep(inputId, outputId) {\n",
              "  const inputElement = document.getElementById(inputId);\n",
              "  inputElement.disabled = false;\n",
              "\n",
              "  const outputElement = document.getElementById(outputId);\n",
              "  outputElement.innerHTML = '';\n",
              "\n",
              "  const pickedPromise = new Promise((resolve) => {\n",
              "    inputElement.addEventListener('change', (e) => {\n",
              "      resolve(e.target.files);\n",
              "    });\n",
              "  });\n",
              "\n",
              "  const cancel = document.createElement('button');\n",
              "  inputElement.parentElement.appendChild(cancel);\n",
              "  cancel.textContent = 'Cancel upload';\n",
              "  const cancelPromise = new Promise((resolve) => {\n",
              "    cancel.onclick = () => {\n",
              "      resolve(null);\n",
              "    };\n",
              "  });\n",
              "\n",
              "  // Wait for the user to pick the files.\n",
              "  const files = yield {\n",
              "    promise: Promise.race([pickedPromise, cancelPromise]),\n",
              "    response: {\n",
              "      action: 'starting',\n",
              "    }\n",
              "  };\n",
              "\n",
              "  cancel.remove();\n",
              "\n",
              "  // Disable the input element since further picks are not allowed.\n",
              "  inputElement.disabled = true;\n",
              "\n",
              "  if (!files) {\n",
              "    return {\n",
              "      response: {\n",
              "        action: 'complete',\n",
              "      }\n",
              "    };\n",
              "  }\n",
              "\n",
              "  for (const file of files) {\n",
              "    const li = document.createElement('li');\n",
              "    li.append(span(file.name, {fontWeight: 'bold'}));\n",
              "    li.append(span(\n",
              "        `(${file.type || 'n/a'}) - ${file.size} bytes, ` +\n",
              "        `last modified: ${\n",
              "            file.lastModifiedDate ? file.lastModifiedDate.toLocaleDateString() :\n",
              "                                    'n/a'} - `));\n",
              "    const percent = span('0% done');\n",
              "    li.appendChild(percent);\n",
              "\n",
              "    outputElement.appendChild(li);\n",
              "\n",
              "    const fileDataPromise = new Promise((resolve) => {\n",
              "      const reader = new FileReader();\n",
              "      reader.onload = (e) => {\n",
              "        resolve(e.target.result);\n",
              "      };\n",
              "      reader.readAsArrayBuffer(file);\n",
              "    });\n",
              "    // Wait for the data to be ready.\n",
              "    let fileData = yield {\n",
              "      promise: fileDataPromise,\n",
              "      response: {\n",
              "        action: 'continue',\n",
              "      }\n",
              "    };\n",
              "\n",
              "    // Use a chunked sending to avoid message size limits. See b/62115660.\n",
              "    let position = 0;\n",
              "    do {\n",
              "      const length = Math.min(fileData.byteLength - position, MAX_PAYLOAD_SIZE);\n",
              "      const chunk = new Uint8Array(fileData, position, length);\n",
              "      position += length;\n",
              "\n",
              "      const base64 = btoa(String.fromCharCode.apply(null, chunk));\n",
              "      yield {\n",
              "        response: {\n",
              "          action: 'append',\n",
              "          file: file.name,\n",
              "          data: base64,\n",
              "        },\n",
              "      };\n",
              "\n",
              "      let percentDone = fileData.byteLength === 0 ?\n",
              "          100 :\n",
              "          Math.round((position / fileData.byteLength) * 100);\n",
              "      percent.textContent = `${percentDone}% done`;\n",
              "\n",
              "    } while (position < fileData.byteLength);\n",
              "  }\n",
              "\n",
              "  // All done.\n",
              "  yield {\n",
              "    response: {\n",
              "      action: 'complete',\n",
              "    }\n",
              "  };\n",
              "}\n",
              "\n",
              "scope.google = scope.google || {};\n",
              "scope.google.colab = scope.google.colab || {};\n",
              "scope.google.colab._files = {\n",
              "  _uploadFiles,\n",
              "  _uploadFilesContinue,\n",
              "};\n",
              "})(self);\n",
              "</script> "
            ]
          },
          "metadata": {}
        },
        {
          "output_type": "stream",
          "name": "stdout",
          "text": [
            "Saving output.csv to output.csv\n",
            "User uploaded file \"output.csv\" with length 1953 bytes\n"
          ]
        }
      ]
    },
    {
      "cell_type": "code",
      "source": [
        "df = pd.read_csv(\"output.csv\", encoding= 'unicode_escape')\n",
        "df = df.iloc[0:1900, :]\n",
        "df.shape\n",
        "df"
      ],
      "metadata": {
        "colab": {
          "base_uri": "https://localhost:8080/",
          "height": 426
        },
        "id": "93_HyNu2Emyb",
        "outputId": "56c79f5e-8412-4906-ca22-af4af2fd6cab"
      },
      "execution_count": null,
      "outputs": [
        {
          "output_type": "execute_result",
          "data": {
            "text/plain": [
              "    ï»¿  STATIONCODE                                           LOCATION  \\\n",
              "0     0         1867  SATLUJ B/C WITH RIVER SPITI AT KHAB, DISTT.KIN...   \n",
              "1     1         1867  SATLUJ B/C WITH RIVER SPITI AT KHAB, DISTT.KIN...   \n",
              "2     2         1867  SATLUJ B/C WITH RIVER SPITI AT KHAB, DISTT.KIN...   \n",
              "3     3         1867  SATLUJ B/C WITH RIVER SPITI AT KHAB, DISTT.KIN...   \n",
              "4     4         1867  SATLUJ B/C WITH RIVER SPITI AT KHAB, DISTT.KIN...   \n",
              "5     5         1867  SATLUJ B/C WITH RIVER SPITI AT KHAB, DISTT.KIN...   \n",
              "6     6         1867  SATLUJ B/C WITH RIVER SPITI AT KHAB, DISTT.KIN...   \n",
              "7     7         1867  SATLUJ B/C WITH RIVER SPITI AT KHAB, DISTT.KIN...   \n",
              "8     8         1867  SATLUJ B/C WITH RIVER SPITI AT KHAB, DISTT.KIN...   \n",
              "9     9         1867  SATLUJ B/C WITH RIVER SPITI AT KHAB, DISTT.KIN...   \n",
              "10   10         1867  SATLUJ B/C WITH RIVER SPITI AT KHAB, DISTT.KIN...   \n",
              "11   11         1867  SATLUJ B/C WITH RIVER SPITI AT KHAB, DISTT.KIN...   \n",
              "\n",
              "               STATE   RIVER         DO        pH         COND    BOD    NI  \\\n",
              "0   HIMACHAL PRADESH  SATLEJ   9.800000  8.500000  2574.000000  1.700  2.20   \n",
              "1   HIMACHAL PRADESH  SATLEJ   9.746154  8.215385   949.923077  0.425  0.67   \n",
              "2   HIMACHAL PRADESH  SATLEJ  10.100000  8.000000   366.000000  0.200  0.20   \n",
              "3   HIMACHAL PRADESH  SATLEJ  10.100000  8.000000   499.000000  0.100  1.00   \n",
              "4   HIMACHAL PRADESH  SATLEJ  10.000000  8.200000   601.000000  0.200  0.10   \n",
              "5   HIMACHAL PRADESH  SATLEJ   9.900000  8.300000   983.000000  0.200  0.50   \n",
              "6   HIMACHAL PRADESH  SATLEJ   9.700000  8.100000   426.000000  0.100  1.03   \n",
              "7   HIMACHAL PRADESH  SATLEJ   9.300000  8.300000   395.000000  0.100  0.73   \n",
              "8   HIMACHAL PRADESH  SATLEJ   9.700000  8.200000   424.000000  0.200  0.50   \n",
              "9   HIMACHAL PRADESH  SATLEJ   8.500000  8.100000   425.000000  0.100  0.11   \n",
              "10  HIMACHAL PRADESH  SATLEJ   9.300000  8.000000   364.000000  0.900  0.67   \n",
              "11  HIMACHAL PRADESH  SATLEJ  11.500000  8.200000   500.000000  0.100  0.90   \n",
              "\n",
              "      FC          TC    YEAR        WQI  \n",
              "0   17.0  170.000000  2019.0  65.400487  \n",
              "1   53.6  314.363636  2018.0  49.748354  \n",
              "2    2.0   20.000000  2017.0  40.930300  \n",
              "3   53.6  314.363636  2016.0  41.366946  \n",
              "4   53.6  314.363636  2015.0  46.129273  \n",
              "5   30.0  144.000000  2014.0  47.915094  \n",
              "6   21.0   75.000000  2013.0  44.241394  \n",
              "7   17.0   61.000000  2012.0  49.506642  \n",
              "8    3.0   12.000000  2010.0  46.392548  \n",
              "9    0.0    5.000000  2009.0  49.434131  \n",
              "10   2.0   27.000000  2008.0  51.027882  \n",
              "11  53.6    4.000000  2007.0  38.024736  "
            ],
            "text/html": [
              "\n",
              "  <div id=\"df-ec32fdc4-1288-496d-be0a-16b3c3262935\">\n",
              "    <div class=\"colab-df-container\">\n",
              "      <div>\n",
              "<style scoped>\n",
              "    .dataframe tbody tr th:only-of-type {\n",
              "        vertical-align: middle;\n",
              "    }\n",
              "\n",
              "    .dataframe tbody tr th {\n",
              "        vertical-align: top;\n",
              "    }\n",
              "\n",
              "    .dataframe thead th {\n",
              "        text-align: right;\n",
              "    }\n",
              "</style>\n",
              "<table border=\"1\" class=\"dataframe\">\n",
              "  <thead>\n",
              "    <tr style=\"text-align: right;\">\n",
              "      <th></th>\n",
              "      <th>ï»¿</th>\n",
              "      <th>STATIONCODE</th>\n",
              "      <th>LOCATION</th>\n",
              "      <th>STATE</th>\n",
              "      <th>RIVER</th>\n",
              "      <th>DO</th>\n",
              "      <th>pH</th>\n",
              "      <th>COND</th>\n",
              "      <th>BOD</th>\n",
              "      <th>NI</th>\n",
              "      <th>FC</th>\n",
              "      <th>TC</th>\n",
              "      <th>YEAR</th>\n",
              "      <th>WQI</th>\n",
              "    </tr>\n",
              "  </thead>\n",
              "  <tbody>\n",
              "    <tr>\n",
              "      <th>0</th>\n",
              "      <td>0</td>\n",
              "      <td>1867</td>\n",
              "      <td>SATLUJ B/C WITH RIVER SPITI AT KHAB, DISTT.KIN...</td>\n",
              "      <td>HIMACHAL PRADESH</td>\n",
              "      <td>SATLEJ</td>\n",
              "      <td>9.800000</td>\n",
              "      <td>8.500000</td>\n",
              "      <td>2574.000000</td>\n",
              "      <td>1.700</td>\n",
              "      <td>2.20</td>\n",
              "      <td>17.0</td>\n",
              "      <td>170.000000</td>\n",
              "      <td>2019.0</td>\n",
              "      <td>65.400487</td>\n",
              "    </tr>\n",
              "    <tr>\n",
              "      <th>1</th>\n",
              "      <td>1</td>\n",
              "      <td>1867</td>\n",
              "      <td>SATLUJ B/C WITH RIVER SPITI AT KHAB, DISTT.KIN...</td>\n",
              "      <td>HIMACHAL PRADESH</td>\n",
              "      <td>SATLEJ</td>\n",
              "      <td>9.746154</td>\n",
              "      <td>8.215385</td>\n",
              "      <td>949.923077</td>\n",
              "      <td>0.425</td>\n",
              "      <td>0.67</td>\n",
              "      <td>53.6</td>\n",
              "      <td>314.363636</td>\n",
              "      <td>2018.0</td>\n",
              "      <td>49.748354</td>\n",
              "    </tr>\n",
              "    <tr>\n",
              "      <th>2</th>\n",
              "      <td>2</td>\n",
              "      <td>1867</td>\n",
              "      <td>SATLUJ B/C WITH RIVER SPITI AT KHAB, DISTT.KIN...</td>\n",
              "      <td>HIMACHAL PRADESH</td>\n",
              "      <td>SATLEJ</td>\n",
              "      <td>10.100000</td>\n",
              "      <td>8.000000</td>\n",
              "      <td>366.000000</td>\n",
              "      <td>0.200</td>\n",
              "      <td>0.20</td>\n",
              "      <td>2.0</td>\n",
              "      <td>20.000000</td>\n",
              "      <td>2017.0</td>\n",
              "      <td>40.930300</td>\n",
              "    </tr>\n",
              "    <tr>\n",
              "      <th>3</th>\n",
              "      <td>3</td>\n",
              "      <td>1867</td>\n",
              "      <td>SATLUJ B/C WITH RIVER SPITI AT KHAB, DISTT.KIN...</td>\n",
              "      <td>HIMACHAL PRADESH</td>\n",
              "      <td>SATLEJ</td>\n",
              "      <td>10.100000</td>\n",
              "      <td>8.000000</td>\n",
              "      <td>499.000000</td>\n",
              "      <td>0.100</td>\n",
              "      <td>1.00</td>\n",
              "      <td>53.6</td>\n",
              "      <td>314.363636</td>\n",
              "      <td>2016.0</td>\n",
              "      <td>41.366946</td>\n",
              "    </tr>\n",
              "    <tr>\n",
              "      <th>4</th>\n",
              "      <td>4</td>\n",
              "      <td>1867</td>\n",
              "      <td>SATLUJ B/C WITH RIVER SPITI AT KHAB, DISTT.KIN...</td>\n",
              "      <td>HIMACHAL PRADESH</td>\n",
              "      <td>SATLEJ</td>\n",
              "      <td>10.000000</td>\n",
              "      <td>8.200000</td>\n",
              "      <td>601.000000</td>\n",
              "      <td>0.200</td>\n",
              "      <td>0.10</td>\n",
              "      <td>53.6</td>\n",
              "      <td>314.363636</td>\n",
              "      <td>2015.0</td>\n",
              "      <td>46.129273</td>\n",
              "    </tr>\n",
              "    <tr>\n",
              "      <th>5</th>\n",
              "      <td>5</td>\n",
              "      <td>1867</td>\n",
              "      <td>SATLUJ B/C WITH RIVER SPITI AT KHAB, DISTT.KIN...</td>\n",
              "      <td>HIMACHAL PRADESH</td>\n",
              "      <td>SATLEJ</td>\n",
              "      <td>9.900000</td>\n",
              "      <td>8.300000</td>\n",
              "      <td>983.000000</td>\n",
              "      <td>0.200</td>\n",
              "      <td>0.50</td>\n",
              "      <td>30.0</td>\n",
              "      <td>144.000000</td>\n",
              "      <td>2014.0</td>\n",
              "      <td>47.915094</td>\n",
              "    </tr>\n",
              "    <tr>\n",
              "      <th>6</th>\n",
              "      <td>6</td>\n",
              "      <td>1867</td>\n",
              "      <td>SATLUJ B/C WITH RIVER SPITI AT KHAB, DISTT.KIN...</td>\n",
              "      <td>HIMACHAL PRADESH</td>\n",
              "      <td>SATLEJ</td>\n",
              "      <td>9.700000</td>\n",
              "      <td>8.100000</td>\n",
              "      <td>426.000000</td>\n",
              "      <td>0.100</td>\n",
              "      <td>1.03</td>\n",
              "      <td>21.0</td>\n",
              "      <td>75.000000</td>\n",
              "      <td>2013.0</td>\n",
              "      <td>44.241394</td>\n",
              "    </tr>\n",
              "    <tr>\n",
              "      <th>7</th>\n",
              "      <td>7</td>\n",
              "      <td>1867</td>\n",
              "      <td>SATLUJ B/C WITH RIVER SPITI AT KHAB, DISTT.KIN...</td>\n",
              "      <td>HIMACHAL PRADESH</td>\n",
              "      <td>SATLEJ</td>\n",
              "      <td>9.300000</td>\n",
              "      <td>8.300000</td>\n",
              "      <td>395.000000</td>\n",
              "      <td>0.100</td>\n",
              "      <td>0.73</td>\n",
              "      <td>17.0</td>\n",
              "      <td>61.000000</td>\n",
              "      <td>2012.0</td>\n",
              "      <td>49.506642</td>\n",
              "    </tr>\n",
              "    <tr>\n",
              "      <th>8</th>\n",
              "      <td>8</td>\n",
              "      <td>1867</td>\n",
              "      <td>SATLUJ B/C WITH RIVER SPITI AT KHAB, DISTT.KIN...</td>\n",
              "      <td>HIMACHAL PRADESH</td>\n",
              "      <td>SATLEJ</td>\n",
              "      <td>9.700000</td>\n",
              "      <td>8.200000</td>\n",
              "      <td>424.000000</td>\n",
              "      <td>0.200</td>\n",
              "      <td>0.50</td>\n",
              "      <td>3.0</td>\n",
              "      <td>12.000000</td>\n",
              "      <td>2010.0</td>\n",
              "      <td>46.392548</td>\n",
              "    </tr>\n",
              "    <tr>\n",
              "      <th>9</th>\n",
              "      <td>9</td>\n",
              "      <td>1867</td>\n",
              "      <td>SATLUJ B/C WITH RIVER SPITI AT KHAB, DISTT.KIN...</td>\n",
              "      <td>HIMACHAL PRADESH</td>\n",
              "      <td>SATLEJ</td>\n",
              "      <td>8.500000</td>\n",
              "      <td>8.100000</td>\n",
              "      <td>425.000000</td>\n",
              "      <td>0.100</td>\n",
              "      <td>0.11</td>\n",
              "      <td>0.0</td>\n",
              "      <td>5.000000</td>\n",
              "      <td>2009.0</td>\n",
              "      <td>49.434131</td>\n",
              "    </tr>\n",
              "    <tr>\n",
              "      <th>10</th>\n",
              "      <td>10</td>\n",
              "      <td>1867</td>\n",
              "      <td>SATLUJ B/C WITH RIVER SPITI AT KHAB, DISTT.KIN...</td>\n",
              "      <td>HIMACHAL PRADESH</td>\n",
              "      <td>SATLEJ</td>\n",
              "      <td>9.300000</td>\n",
              "      <td>8.000000</td>\n",
              "      <td>364.000000</td>\n",
              "      <td>0.900</td>\n",
              "      <td>0.67</td>\n",
              "      <td>2.0</td>\n",
              "      <td>27.000000</td>\n",
              "      <td>2008.0</td>\n",
              "      <td>51.027882</td>\n",
              "    </tr>\n",
              "    <tr>\n",
              "      <th>11</th>\n",
              "      <td>11</td>\n",
              "      <td>1867</td>\n",
              "      <td>SATLUJ B/C WITH RIVER SPITI AT KHAB, DISTT.KIN...</td>\n",
              "      <td>HIMACHAL PRADESH</td>\n",
              "      <td>SATLEJ</td>\n",
              "      <td>11.500000</td>\n",
              "      <td>8.200000</td>\n",
              "      <td>500.000000</td>\n",
              "      <td>0.100</td>\n",
              "      <td>0.90</td>\n",
              "      <td>53.6</td>\n",
              "      <td>4.000000</td>\n",
              "      <td>2007.0</td>\n",
              "      <td>38.024736</td>\n",
              "    </tr>\n",
              "  </tbody>\n",
              "</table>\n",
              "</div>\n",
              "      <button class=\"colab-df-convert\" onclick=\"convertToInteractive('df-ec32fdc4-1288-496d-be0a-16b3c3262935')\"\n",
              "              title=\"Convert this dataframe to an interactive table.\"\n",
              "              style=\"display:none;\">\n",
              "        \n",
              "  <svg xmlns=\"http://www.w3.org/2000/svg\" height=\"24px\"viewBox=\"0 0 24 24\"\n",
              "       width=\"24px\">\n",
              "    <path d=\"M0 0h24v24H0V0z\" fill=\"none\"/>\n",
              "    <path d=\"M18.56 5.44l.94 2.06.94-2.06 2.06-.94-2.06-.94-.94-2.06-.94 2.06-2.06.94zm-11 1L8.5 8.5l.94-2.06 2.06-.94-2.06-.94L8.5 2.5l-.94 2.06-2.06.94zm10 10l.94 2.06.94-2.06 2.06-.94-2.06-.94-.94-2.06-.94 2.06-2.06.94z\"/><path d=\"M17.41 7.96l-1.37-1.37c-.4-.4-.92-.59-1.43-.59-.52 0-1.04.2-1.43.59L10.3 9.45l-7.72 7.72c-.78.78-.78 2.05 0 2.83L4 21.41c.39.39.9.59 1.41.59.51 0 1.02-.2 1.41-.59l7.78-7.78 2.81-2.81c.8-.78.8-2.07 0-2.86zM5.41 20L4 18.59l7.72-7.72 1.47 1.35L5.41 20z\"/>\n",
              "  </svg>\n",
              "      </button>\n",
              "      \n",
              "  <style>\n",
              "    .colab-df-container {\n",
              "      display:flex;\n",
              "      flex-wrap:wrap;\n",
              "      gap: 12px;\n",
              "    }\n",
              "\n",
              "    .colab-df-convert {\n",
              "      background-color: #E8F0FE;\n",
              "      border: none;\n",
              "      border-radius: 50%;\n",
              "      cursor: pointer;\n",
              "      display: none;\n",
              "      fill: #1967D2;\n",
              "      height: 32px;\n",
              "      padding: 0 0 0 0;\n",
              "      width: 32px;\n",
              "    }\n",
              "\n",
              "    .colab-df-convert:hover {\n",
              "      background-color: #E2EBFA;\n",
              "      box-shadow: 0px 1px 2px rgba(60, 64, 67, 0.3), 0px 1px 3px 1px rgba(60, 64, 67, 0.15);\n",
              "      fill: #174EA6;\n",
              "    }\n",
              "\n",
              "    [theme=dark] .colab-df-convert {\n",
              "      background-color: #3B4455;\n",
              "      fill: #D2E3FC;\n",
              "    }\n",
              "\n",
              "    [theme=dark] .colab-df-convert:hover {\n",
              "      background-color: #434B5C;\n",
              "      box-shadow: 0px 1px 3px 1px rgba(0, 0, 0, 0.15);\n",
              "      filter: drop-shadow(0px 1px 2px rgba(0, 0, 0, 0.3));\n",
              "      fill: #FFFFFF;\n",
              "    }\n",
              "  </style>\n",
              "\n",
              "      <script>\n",
              "        const buttonEl =\n",
              "          document.querySelector('#df-ec32fdc4-1288-496d-be0a-16b3c3262935 button.colab-df-convert');\n",
              "        buttonEl.style.display =\n",
              "          google.colab.kernel.accessAllowed ? 'block' : 'none';\n",
              "\n",
              "        async function convertToInteractive(key) {\n",
              "          const element = document.querySelector('#df-ec32fdc4-1288-496d-be0a-16b3c3262935');\n",
              "          const dataTable =\n",
              "            await google.colab.kernel.invokeFunction('convertToInteractive',\n",
              "                                                     [key], {});\n",
              "          if (!dataTable) return;\n",
              "\n",
              "          const docLinkHtml = 'Like what you see? Visit the ' +\n",
              "            '<a target=\"_blank\" href=https://colab.research.google.com/notebooks/data_table.ipynb>data table notebook</a>'\n",
              "            + ' to learn more about interactive tables.';\n",
              "          element.innerHTML = '';\n",
              "          dataTable['output_type'] = 'display_data';\n",
              "          await google.colab.output.renderOutput(dataTable, element);\n",
              "          const docLink = document.createElement('div');\n",
              "          docLink.innerHTML = docLinkHtml;\n",
              "          element.appendChild(docLink);\n",
              "        }\n",
              "      </script>\n",
              "    </div>\n",
              "  </div>\n",
              "  "
            ]
          },
          "metadata": {},
          "execution_count": 8
        }
      ]
    },
    {
      "cell_type": "code",
      "source": [
        "timeseries_data = df['WQI']\n",
        "timeseries_data.plot()"
      ],
      "metadata": {
        "colab": {
          "base_uri": "https://localhost:8080/",
          "height": 282
        },
        "id": "p0u8vClHFBtU",
        "outputId": "084c94db-f13f-4f75-cee4-2d25590f8e23"
      },
      "execution_count": null,
      "outputs": [
        {
          "output_type": "execute_result",
          "data": {
            "text/plain": [
              "<AxesSubplot:>"
            ]
          },
          "metadata": {},
          "execution_count": 9
        },
        {
          "output_type": "display_data",
          "data": {
            "text/plain": [
              "<Figure size 432x288 with 1 Axes>"
            ],
            "image/png": "[encoded data removed]"
          },
          "metadata": {
            "needs_background": "light"
          }
        }
      ]
    },
    {
      "cell_type": "code",
      "execution_count": null,
      "metadata": {
        "id": "Zak91vrB2d5r"
      },
      "outputs": [],
      "source": [
        "# define input sequence\n",
        "# choose a number of time steps\n",
        "n_steps = 3\n",
        "# split into samples\n",
        "X, y = prepare_data(timeseries_data, n_steps)"
      ]
    },
    {
      "cell_type": "code",
      "execution_count": null,
      "metadata": {
        "colab": {
          "base_uri": "https://localhost:8080/"
        },
        "id": "oMBuMVYb2d5r",
        "outputId": "b1dd97d3-dfa1-4d86-8008-1a330fbf0205"
      },
      "outputs": [
        {
          "output_type": "stream",
          "name": "stdout",
          "text": [
            "[[65.40048725 49.74835407 40.93029971]\n",
            " [49.74835407 40.93029971 41.36694638]\n",
            " [40.93029971 41.36694638 46.12927333]\n",
            " [41.36694638 46.12927333 47.91509362]\n",
            " [46.12927333 47.91509362 44.2413942 ]\n",
            " [47.91509362 44.2413942  49.50664203]\n",
            " [44.2413942  49.50664203 46.39254754]\n",
            " [49.50664203 46.39254754 49.43413101]\n",
            " [46.39254754 49.43413101 51.02788203]]\n",
            "[41.36694638 46.12927333 47.91509362 44.2413942  49.50664203 46.39254754\n",
            " 49.43413101 51.02788203 38.02473565]\n"
          ]
        },
        {
          "output_type": "execute_result",
          "data": {
            "text/plain": [
              "(None, None)"
            ]
          },
          "metadata": {},
          "execution_count": 11
        }
      ],
      "source": [
        "print(X),print(y)"
      ]
    },
    {
      "cell_type": "code",
      "execution_count": null,
      "metadata": {
        "colab": {
          "base_uri": "https://localhost:8080/"
        },
        "id": "MxYfKme42d5s",
        "outputId": "80d3226f-2ce3-49de-ad15-9b1e7b68703c"
      },
      "outputs": [
        {
          "output_type": "execute_result",
          "data": {
            "text/plain": [
              "(9, 3, 1)"
            ]
          },
          "metadata": {},
          "execution_count": 41
        }
      ],
      "source": [
        "X.shape"
      ]
    },
    {
      "cell_type": "code",
      "execution_count": null,
      "metadata": {
        "id": "A-mmZ5Q32d5t"
      },
      "outputs": [],
      "source": [
        "# reshape from [samples, timesteps] into [samples, timesteps, features]\n",
        "n_features = 1\n",
        "X = X.reshape((X.shape[0], X.shape[1], n_features))"
      ]
    },
    {
      "cell_type": "markdown",
      "metadata": {
        "id": "zlhh4LXc2d5t"
      },
      "source": [
        "### Building Machine Learning Model"
      ]
    },
    {
      "cell_type": "code",
      "source": [
        "# CNN-BiLSTM model\n",
        "model = Sequential()\n",
        "model.add(Conv1D(filters=32, kernel_size=2, activation='relu', input_shape=(n_steps, n_features)))\n",
        "model.add(MaxPooling1D(pool_size=2))\n",
        "model.add(Conv1D(filters=32, kernel_size=2, activation='relu'))\n",
        "model.add(MaxPooling1D(pool_size=2))\n",
        "model.add(Bidirectional(LSTM(32, activation='relu', input_shape=(n_steps, n_features))))\n",
        "model.compile(loss='mean_squared_error', optimizer='adam') #rmsprop adam\n",
        "\n",
        "# fit model\n",
        "model.fit(X, y, epochs=600, verbose=1)"
      ],
      "metadata": {
        "id": "p8lmiJv69obS"
      },
      "execution_count": null,
      "outputs": []
    },
    {
      "cell_type": "code",
      "execution_count": null,
      "metadata": {
        "id": "4Ejzd6Tq2d5u"
      },
      "outputs": [],
      "source": [
        "\n",
        "# define model\n",
        "model = Sequential()\n",
        "model.add(LSTM(50, activation='relu', return_sequences=True, input_shape=(n_steps, n_features)))\n",
        "model.add(LSTM(50, activation='relu'))\n",
        "model.add(Dense(1))\n",
        "model.compile(optimizer='adam', loss='mse')\n",
        "# fit model\n",
        "model.fit(X, y, epochs=600, verbose=1)\n"
      ]
    },
    {
      "cell_type": "markdown",
      "metadata": {
        "id": "QBKiu8Er2d5v"
      },
      "source": [
        "### Predicting For the next 10 data"
      ]
    },
    {
      "cell_type": "code",
      "execution_count": null,
      "metadata": {
        "colab": {
          "base_uri": "https://localhost:8080/"
        },
        "id": "tE7iI23a2d5v",
        "outputId": "3e8db426-beba-4ea5-df22-4cf11dcef882"
      },
      "outputs": [
        {
          "output_type": "stream",
          "name": "stdout",
          "text": [
            "[46.346756]\n",
            "1 year input [51.02788203 38.02473565 46.34675598]\n",
            "1 year output [[41.432457]]\n",
            "2 year input [38.02473565 46.34675598 41.43245697]\n",
            "2 year output [[46.118233]]\n",
            "3 year input [46.346756 41.432457 46.118233]\n",
            "3 year output [[48.228817]]\n",
            "4 year input [41.432457 46.118233 48.228817]\n",
            "4 year output [[43.630608]]\n",
            "5 year input [46.118233 48.228817 43.630608]\n",
            "5 year output [[49.161755]]\n",
            "6 year input [48.228817 43.630608 49.161755]\n",
            "6 year output [[47.55567]]\n",
            "7 year input [43.630608 49.161755 47.55567 ]\n",
            "7 year output [[46.806484]]\n",
            "8 year input [49.161755 47.55567  46.806484]\n",
            "8 year output [[52.40012]]\n",
            "9 year input [47.55567  46.806484 52.40012 ]\n",
            "9 year output [[33.71522]]\n",
            "[46.346756, 41.432457, 46.118233, 48.228817, 43.630608, 49.161755, 47.55567, 46.806484, 52.40012, 33.71522]\n"
          ]
        }
      ],
      "source": [
        "# demonstrate prediction for next 10 years\n",
        "x_input = np.array([49.43413101, 51.02788203, 38.02473565])\n",
        "temp_input=list(x_input)\n",
        "lst_output=[]\n",
        "i=0\n",
        "while(i<10):\n",
        "    \n",
        "    if(len(temp_input)>3):\n",
        "        x_input=np.array(temp_input[1:])\n",
        "        print(\"{} year input {}\".format(i,x_input))\n",
        "        #print(x_input)\n",
        "        x_input = x_input.reshape((1, n_steps, n_features))\n",
        "        #print(x_input)\n",
        "        yhat = model.predict(x_input, verbose=0)\n",
        "        print(\"{} year output {}\".format(i,yhat))\n",
        "        temp_input.append(yhat[0][0])\n",
        "        temp_input=temp_input[1:]\n",
        "        #print(temp_input)\n",
        "        lst_output.append(yhat[0][0])\n",
        "        i=i+1\n",
        "    else:\n",
        "        x_input = x_input.reshape((1, n_steps, n_features))\n",
        "        yhat = model.predict(x_input, verbose=0)\n",
        "        print(yhat[0])\n",
        "        temp_input.append(yhat[0][0])\n",
        "        lst_output.append(yhat[0][0])\n",
        "        i=i+1\n",
        "    \n",
        "\n",
        "print(lst_output)"
      ]
    },
    {
      "cell_type": "code",
      "source": [
        "\n",
        "d= timeseries_data[(len(timeseries_data)-n_steps):]\n",
        "dx = np.array(d)\n",
        "temp_input=list(dx)\n",
        "dx = dx.reshape((1, n_steps, n_features))\n",
        "yhat = model.predict(dx, verbose=0)\n",
        "print(\"Predicted WQI value = {}\".format(yhat))\n"
      ],
      "metadata": {
        "colab": {
          "base_uri": "https://localhost:8080/"
        },
        "id": "uN9lptu-dSzd",
        "outputId": "e0896b7e-1b59-4006-8dfb-4c9c4bbc1a59"
      },
      "execution_count": null,
      "outputs": [
        {
          "output_type": "stream",
          "name": "stdout",
          "text": [
            "Predicted WQI value = [[46.346756]]\n"
          ]
        }
      ]
    },
    {
      "cell_type": "code",
      "execution_count": null,
      "metadata": {
        "id": "LTERDJ2T2d5w"
      },
      "outputs": [],
      "source": [
        "timeseries_data"
      ]
    },
    {
      "cell_type": "code",
      "execution_count": null,
      "metadata": {
        "id": "Y9aCl87f2d5w"
      },
      "outputs": [],
      "source": [
        "len(timeseries_data)"
      ]
    },
    {
      "cell_type": "code",
      "execution_count": null,
      "metadata": {
        "id": "8py53vgG2d5x"
      },
      "outputs": [],
      "source": [
        "lst_output"
      ]
    },
    {
      "cell_type": "markdown",
      "metadata": {
        "id": "E_2Npw6f2d5x"
      },
      "source": [
        "### Visualizaing The Output"
      ]
    },
    {
      "cell_type": "code",
      "execution_count": null,
      "metadata": {
        "id": "8eqMa3eE2d5y"
      },
      "outputs": [],
      "source": [
        "import matplotlib.pyplot as plt"
      ]
    },
    {
      "cell_type": "code",
      "execution_count": null,
      "metadata": {
        "id": "n_ZfW7Ec2d5y"
      },
      "outputs": [],
      "source": [
        "year_new=np.arange(1,13)\n",
        "year_pred=np.arange(13,23)"
      ]
    },
    {
      "cell_type": "code",
      "execution_count": null,
      "metadata": {
        "id": "JYNsQ-cw2d5y",
        "outputId": "e57cf344-d57b-444a-c0b8-d4f5ebffd85c",
        "colab": {
          "base_uri": "https://localhost:8080/",
          "height": 282
        }
      },
      "outputs": [
        {
          "output_type": "execute_result",
          "data": {
            "text/plain": [
              "[<matplotlib.lines.Line2D at 0x7f14139b3220>]"
            ]
          },
          "metadata": {},
          "execution_count": 40
        },
        {
          "output_type": "display_data",
          "data": {
            "text/plain": [
              "<Figure size 432x288 with 1 Axes>"
            ],
            "image/png": "[encoded data removed]"
          },
          "metadata": {
            "needs_background": "light"
          }
        }
      ],
      "source": [
        "plt.plot(year_new,timeseries_data)\n",
        "plt.plot(year_pred,lst_output)\n"
      ]
    },
    {
      "cell_type": "code",
      "execution_count": null,
      "metadata": {
        "id": "eL-CPvvF2d5z"
      },
      "outputs": [],
      "source": []
    }
  ],
  "metadata": {
    "kernelspec": {
      "display_name": "Python 3",
      "language": "python",
      "name": "python3"
    },
    "language_info": {
      "codemirror_mode": {
        "name": "ipython",
        "version": 3
      },
      "file_extension": ".py",
      "mimetype": "text/x-python",
      "name": "python",
      "nbconvert_exporter": "python",
      "pygments_lexer": "ipython3",
      "version": "3.7.4"
    },
    "colab": {
      "provenance": [],
      "include_colab_link": true
    }
  },
  "nbformat": 4,
  "nbformat_minor": 0
}